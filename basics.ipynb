{
 "cells": [
  {
   "cell_type": "code",
   "execution_count": 1,
   "metadata": {},
   "outputs": [],
   "source": [
    "import torch\n",
    "from torch import nn\n",
    "from torch.utils.data import DataLoader, Dataset"
   ]
  },
  {
   "cell_type": "markdown",
   "metadata": {},
   "source": [
    "### 1. Tensor"
   ]
  },
  {
   "cell_type": "code",
   "execution_count": 2,
   "metadata": {},
   "outputs": [],
   "source": [
    "X_cpu = torch.randn(10000, 3, device=\"cpu\")\n",
    "W_cpu = torch.randn(3, 10000, requires_grad=True, device=\"cpu\")\n",
    "\n",
    "X_mps = X_cpu.clone().to(\"mps\")\n",
    "W_mps = W_cpu.clone().to(\"mps\")"
   ]
  },
  {
   "cell_type": "code",
   "execution_count": 3,
   "metadata": {},
   "outputs": [
    {
     "data": {
      "text/plain": [
       "(device(type='cpu'),\n",
       " device(type='cpu'),\n",
       " device(type='mps', index=0),\n",
       " device(type='mps', index=0))"
      ]
     },
     "execution_count": 3,
     "metadata": {},
     "output_type": "execute_result"
    }
   ],
   "source": [
    "X_cpu.device, W_cpu.device, X_mps.device, W_mps.device"
   ]
  },
  {
   "cell_type": "code",
   "execution_count": 4,
   "metadata": {},
   "outputs": [],
   "source": [
    "# Measure time for CPU\n",
    "#%timeit torch.matmul(X_cpu, W_cpu)"
   ]
  },
  {
   "cell_type": "code",
   "execution_count": 5,
   "metadata": {},
   "outputs": [],
   "source": [
    "# Measure time for MPS\n",
    "#%timeit torch.matmul(X_mps, W_mps)"
   ]
  },
  {
   "cell_type": "markdown",
   "metadata": {},
   "source": [
    "### 2. Dataset"
   ]
  },
  {
   "cell_type": "code",
   "execution_count": 6,
   "metadata": {},
   "outputs": [],
   "source": [
    "class TestDataset(Dataset):\n",
    "\n",
    "    def __init__(self):\n",
    "        self.data = torch.randn(10_000, 5, dtype=torch.float32)\n",
    "        self.target = torch.randint(0, 2, (10_000, 3), dtype=torch.float32)\n",
    "\n",
    "\n",
    "    def __getitem__(self, index: int):\n",
    "        x = self.data[index]\n",
    "        y = self.target[index]\n",
    "        return x, y\n",
    "\n",
    "    def __len__(self):\n",
    "        return len(self.data)  "
   ]
  },
  {
   "cell_type": "code",
   "execution_count": 7,
   "metadata": {},
   "outputs": [],
   "source": [
    "train_dataset = TestDataset()\n",
    "eval_dataset = TestDataset()"
   ]
  },
  {
   "cell_type": "markdown",
   "metadata": {},
   "source": [
    "### 3. DataLoader"
   ]
  },
  {
   "cell_type": "code",
   "execution_count": 8,
   "metadata": {},
   "outputs": [],
   "source": [
    "batch_size = 64"
   ]
  },
  {
   "cell_type": "code",
   "execution_count": 9,
   "metadata": {},
   "outputs": [],
   "source": [
    "train_dataloader = DataLoader(train_dataset, batch_size=batch_size, shuffle=False)\n",
    "val_dataloader = DataLoader(eval_dataset, batch_size=batch_size, shuffle=False)"
   ]
  },
  {
   "cell_type": "markdown",
   "metadata": {},
   "source": [
    "### 4. Module"
   ]
  },
  {
   "cell_type": "code",
   "execution_count": 10,
   "metadata": {},
   "outputs": [],
   "source": [
    "class Net(nn.Module):\n",
    "    def __init__(self):\n",
    "        super(Net, self).__init__()\n",
    "        self.input_layer = nn.Sequential(nn.Linear(5, 32), nn.ReLU())\n",
    "        self.hidden_layer = nn.Sequential(nn.Linear(32, 32), nn.ReLU())\n",
    "        self.output_layer = nn.Sequential(nn.Linear(32, 3), nn.Sigmoid())\n",
    "\n",
    "    def forward(self, x):\n",
    "        x = self.input_layer(x)\n",
    "        x = self.hidden_layer(x)\n",
    "        x = self.output_layer(x)\n",
    "        return x"
   ]
  },
  {
   "cell_type": "markdown",
   "metadata": {},
   "source": [
    "### 5. Training"
   ]
  },
  {
   "cell_type": "code",
   "execution_count": 11,
   "metadata": {},
   "outputs": [],
   "source": [
    "model = Net()"
   ]
  },
  {
   "cell_type": "code",
   "execution_count": 12,
   "metadata": {},
   "outputs": [],
   "source": [
    "def _validate(model, dataloader, criterion):\n",
    "\n",
    "    total_loss = 0\n",
    "    with torch.no_grad():\n",
    "        for batch, (X, y) in enumerate(dataloader):\n",
    "            y_pred = model(X)\n",
    "            loss = criterion(y_pred, y)\n",
    "            total_loss += loss.item()\n",
    "    return total_loss / len(dataloader)\n",
    "\n",
    "\n",
    "def train_and_validate(model, train_dataloader, val_dataloader, epochs):\n",
    "    criterion = nn.BCELoss()\n",
    "    optimizer = torch.optim.Adam(model.parameters(), lr=0.01)\n",
    "    validation_losses = []\n",
    "\n",
    "    for epoch in range(epochs):\n",
    "        model.train()\n",
    "        for batch, (X, y) in enumerate(train_dataloader):\n",
    "            \n",
    "            y_pred = model(X)\n",
    "            loss = criterion(y_pred, y)\n",
    "\n",
    "            loss.backward()\n",
    "            optimizer.step()\n",
    "            optimizer.zero_grad()\n",
    "\n",
    "        model.eval()\n",
    "        validation_loss = _validate(model, val_dataloader, criterion)\n",
    "        validation_losses.append(validation_loss)\n",
    "        print(f\"Epoch {epoch}, validation loss: {validation_loss}\")"
   ]
  },
  {
   "cell_type": "code",
   "execution_count": 13,
   "metadata": {},
   "outputs": [
    {
     "name": "stdout",
     "output_type": "stream",
     "text": [
      "Epoch 0, validation loss: 0.6933184812782677\n",
      "Epoch 1, validation loss: 0.6935971565307326\n",
      "Epoch 2, validation loss: 0.693384034998098\n",
      "Epoch 3, validation loss: 0.6931565062255617\n",
      "Epoch 4, validation loss: 0.6932208784826243\n",
      "Epoch 5, validation loss: 0.6932399140042105\n",
      "Epoch 6, validation loss: 0.6931964823394824\n",
      "Epoch 7, validation loss: 0.6933117884739189\n",
      "Epoch 8, validation loss: 0.6934066984304197\n",
      "Epoch 9, validation loss: 0.6932498512754015\n",
      "Epoch 10, validation loss: 0.6933976282739336\n",
      "Epoch 11, validation loss: 0.693495299026465\n",
      "Epoch 12, validation loss: 0.693691302256979\n",
      "Epoch 13, validation loss: 0.6939755700955725\n",
      "Epoch 14, validation loss: 0.6942356832467826\n",
      "Epoch 15, validation loss: 0.6941197005806455\n",
      "Epoch 16, validation loss: 0.693653444575656\n",
      "Epoch 17, validation loss: 0.6944151513136116\n",
      "Epoch 18, validation loss: 0.6937655347168066\n",
      "Epoch 19, validation loss: 0.6938322577506874\n",
      "Epoch 20, validation loss: 0.6935547134678834\n",
      "Epoch 21, validation loss: 0.6937626194042764\n",
      "Epoch 22, validation loss: 0.6937574622737375\n",
      "Epoch 23, validation loss: 0.6940308080357351\n",
      "Epoch 24, validation loss: 0.6940033162475392\n"
     ]
    }
   ],
   "source": [
    "train_and_validate(model, train_dataloader, val_dataloader, epochs=25)"
   ]
  },
  {
   "cell_type": "code",
   "execution_count": null,
   "metadata": {},
   "outputs": [],
   "source": []
  }
 ],
 "metadata": {
  "kernelspec": {
   "display_name": ".venv",
   "language": "python",
   "name": "python3"
  },
  "language_info": {
   "codemirror_mode": {
    "name": "ipython",
    "version": 3
   },
   "file_extension": ".py",
   "mimetype": "text/x-python",
   "name": "python",
   "nbconvert_exporter": "python",
   "pygments_lexer": "ipython3",
   "version": "3.10.13"
  }
 },
 "nbformat": 4,
 "nbformat_minor": 2
}
